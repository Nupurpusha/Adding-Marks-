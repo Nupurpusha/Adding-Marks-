{
  "nbformat": 4,
  "nbformat_minor": 0,
  "metadata": {
    "colab": {
      "provenance": [],
      "authorship_tag": "ABX9TyP4xMJVUIm91owSQhMeJBM+",
      "include_colab_link": true
    },
    "kernelspec": {
      "name": "python3",
      "display_name": "Python 3"
    },
    "language_info": {
      "name": "python"
    }
  },
  "cells": [
    {
      "cell_type": "markdown",
      "metadata": {
        "id": "view-in-github",
        "colab_type": "text"
      },
      "source": [
        "<a href=\"https://colab.research.google.com/github/Nupurpusha/Adding-Marks-/blob/main/Adding_Marks.ipynb\" target=\"_parent\"><img src=\"https://colab.research.google.com/assets/colab-badge.svg\" alt=\"Open In Colab\"/></a>"
      ]
    },
    {
      "cell_type": "code",
      "execution_count": 4,
      "metadata": {
        "id": "zSKCxoAwFRRc"
      },
      "outputs": [],
      "source": [
        "import pandas as pd\n",
        "data=pd.read_csv('/content/Mini Project - Marks Adding.csv')\n",
        "rollnumbers = data['Roll Num'].unique()\n",
        "summarks = []\n",
        "for rollnumber in rollnumbers:\n",
        "    totalmarks = data[data['Roll Num'] == rollnumber]['Marks'].sum()\n",
        "    summarks.append({'Roll Num': rollnumber, 'total marks': totalmarks})\n",
        "summarksdf = pd.DataFrame(summarks)\n",
        "summarksdf.to_csv('Final_marks.csv', index=False)"
      ]
    }
  ]
}